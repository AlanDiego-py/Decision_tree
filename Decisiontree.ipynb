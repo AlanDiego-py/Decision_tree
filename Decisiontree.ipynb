{
  "nbformat": 4,
  "nbformat_minor": 0,
  "metadata": {
    "colab": {
      "name": "Decisiontree.ipynb",
      "provenance": []
    },
    "kernelspec": {
      "name": "python3",
      "display_name": "Python 3"
    },
    "language_info": {
      "name": "python"
    }
  },
  "cells": [
    {
      "cell_type": "markdown",
      "source": [
        "###Exploração"
      ],
      "metadata": {
        "id": "q263z82jyTqE"
      }
    },
    {
      "cell_type": "code",
      "execution_count": null,
      "metadata": {
        "id": "D9xRr0eb78An"
      },
      "outputs": [],
      "source": [
        "import pandas as pd"
      ]
    },
    {
      "cell_type": "code",
      "source": [
        "df = pd.read_csv('/content/DF Cientista de dados Jr.csv')\n",
        "df.head()"
      ],
      "metadata": {
        "colab": {
          "base_uri": "https://localhost:8080/",
          "height": 206
        },
        "id": "G5lquYaT8KYh",
        "outputId": "38ddbd48-88aa-4bbb-dfc7-b152724ad2e3"
      },
      "execution_count": null,
      "outputs": [
        {
          "output_type": "execute_result",
          "data": {
            "text/html": [
              "\n",
              "  <div id=\"df-1f23cfa8-46f7-4072-a14f-2bd933016a32\">\n",
              "    <div class=\"colab-df-container\">\n",
              "      <div>\n",
              "<style scoped>\n",
              "    .dataframe tbody tr th:only-of-type {\n",
              "        vertical-align: middle;\n",
              "    }\n",
              "\n",
              "    .dataframe tbody tr th {\n",
              "        vertical-align: top;\n",
              "    }\n",
              "\n",
              "    .dataframe thead th {\n",
              "        text-align: right;\n",
              "    }\n",
              "</style>\n",
              "<table border=\"1\" class=\"dataframe\">\n",
              "  <thead>\n",
              "    <tr style=\"text-align: right;\">\n",
              "      <th></th>\n",
              "      <th>Idade</th>\n",
              "      <th>Sexo</th>\n",
              "      <th>IMC</th>\n",
              "      <th>Filhos</th>\n",
              "      <th>Fumante</th>\n",
              "      <th>Regiao</th>\n",
              "      <th>Custos</th>\n",
              "    </tr>\n",
              "  </thead>\n",
              "  <tbody>\n",
              "    <tr>\n",
              "      <th>0</th>\n",
              "      <td>19</td>\n",
              "      <td>female</td>\n",
              "      <td>27.900</td>\n",
              "      <td>0</td>\n",
              "      <td>yes</td>\n",
              "      <td>southwest</td>\n",
              "      <td>16884.92400</td>\n",
              "    </tr>\n",
              "    <tr>\n",
              "      <th>1</th>\n",
              "      <td>18</td>\n",
              "      <td>male</td>\n",
              "      <td>33.770</td>\n",
              "      <td>1</td>\n",
              "      <td>no</td>\n",
              "      <td>southeast</td>\n",
              "      <td>1725.55230</td>\n",
              "    </tr>\n",
              "    <tr>\n",
              "      <th>2</th>\n",
              "      <td>28</td>\n",
              "      <td>male</td>\n",
              "      <td>33.000</td>\n",
              "      <td>3</td>\n",
              "      <td>no</td>\n",
              "      <td>southeast</td>\n",
              "      <td>4449.46200</td>\n",
              "    </tr>\n",
              "    <tr>\n",
              "      <th>3</th>\n",
              "      <td>33</td>\n",
              "      <td>male</td>\n",
              "      <td>22.705</td>\n",
              "      <td>0</td>\n",
              "      <td>no</td>\n",
              "      <td>northwest</td>\n",
              "      <td>21984.47061</td>\n",
              "    </tr>\n",
              "    <tr>\n",
              "      <th>4</th>\n",
              "      <td>32</td>\n",
              "      <td>male</td>\n",
              "      <td>28.880</td>\n",
              "      <td>0</td>\n",
              "      <td>no</td>\n",
              "      <td>northwest</td>\n",
              "      <td>3866.85520</td>\n",
              "    </tr>\n",
              "  </tbody>\n",
              "</table>\n",
              "</div>\n",
              "      <button class=\"colab-df-convert\" onclick=\"convertToInteractive('df-1f23cfa8-46f7-4072-a14f-2bd933016a32')\"\n",
              "              title=\"Convert this dataframe to an interactive table.\"\n",
              "              style=\"display:none;\">\n",
              "        \n",
              "  <svg xmlns=\"http://www.w3.org/2000/svg\" height=\"24px\"viewBox=\"0 0 24 24\"\n",
              "       width=\"24px\">\n",
              "    <path d=\"M0 0h24v24H0V0z\" fill=\"none\"/>\n",
              "    <path d=\"M18.56 5.44l.94 2.06.94-2.06 2.06-.94-2.06-.94-.94-2.06-.94 2.06-2.06.94zm-11 1L8.5 8.5l.94-2.06 2.06-.94-2.06-.94L8.5 2.5l-.94 2.06-2.06.94zm10 10l.94 2.06.94-2.06 2.06-.94-2.06-.94-.94-2.06-.94 2.06-2.06.94z\"/><path d=\"M17.41 7.96l-1.37-1.37c-.4-.4-.92-.59-1.43-.59-.52 0-1.04.2-1.43.59L10.3 9.45l-7.72 7.72c-.78.78-.78 2.05 0 2.83L4 21.41c.39.39.9.59 1.41.59.51 0 1.02-.2 1.41-.59l7.78-7.78 2.81-2.81c.8-.78.8-2.07 0-2.86zM5.41 20L4 18.59l7.72-7.72 1.47 1.35L5.41 20z\"/>\n",
              "  </svg>\n",
              "      </button>\n",
              "      \n",
              "  <style>\n",
              "    .colab-df-container {\n",
              "      display:flex;\n",
              "      flex-wrap:wrap;\n",
              "      gap: 12px;\n",
              "    }\n",
              "\n",
              "    .colab-df-convert {\n",
              "      background-color: #E8F0FE;\n",
              "      border: none;\n",
              "      border-radius: 50%;\n",
              "      cursor: pointer;\n",
              "      display: none;\n",
              "      fill: #1967D2;\n",
              "      height: 32px;\n",
              "      padding: 0 0 0 0;\n",
              "      width: 32px;\n",
              "    }\n",
              "\n",
              "    .colab-df-convert:hover {\n",
              "      background-color: #E2EBFA;\n",
              "      box-shadow: 0px 1px 2px rgba(60, 64, 67, 0.3), 0px 1px 3px 1px rgba(60, 64, 67, 0.15);\n",
              "      fill: #174EA6;\n",
              "    }\n",
              "\n",
              "    [theme=dark] .colab-df-convert {\n",
              "      background-color: #3B4455;\n",
              "      fill: #D2E3FC;\n",
              "    }\n",
              "\n",
              "    [theme=dark] .colab-df-convert:hover {\n",
              "      background-color: #434B5C;\n",
              "      box-shadow: 0px 1px 3px 1px rgba(0, 0, 0, 0.15);\n",
              "      filter: drop-shadow(0px 1px 2px rgba(0, 0, 0, 0.3));\n",
              "      fill: #FFFFFF;\n",
              "    }\n",
              "  </style>\n",
              "\n",
              "      <script>\n",
              "        const buttonEl =\n",
              "          document.querySelector('#df-1f23cfa8-46f7-4072-a14f-2bd933016a32 button.colab-df-convert');\n",
              "        buttonEl.style.display =\n",
              "          google.colab.kernel.accessAllowed ? 'block' : 'none';\n",
              "\n",
              "        async function convertToInteractive(key) {\n",
              "          const element = document.querySelector('#df-1f23cfa8-46f7-4072-a14f-2bd933016a32');\n",
              "          const dataTable =\n",
              "            await google.colab.kernel.invokeFunction('convertToInteractive',\n",
              "                                                     [key], {});\n",
              "          if (!dataTable) return;\n",
              "\n",
              "          const docLinkHtml = 'Like what you see? Visit the ' +\n",
              "            '<a target=\"_blank\" href=https://colab.research.google.com/notebooks/data_table.ipynb>data table notebook</a>'\n",
              "            + ' to learn more about interactive tables.';\n",
              "          element.innerHTML = '';\n",
              "          dataTable['output_type'] = 'display_data';\n",
              "          await google.colab.output.renderOutput(dataTable, element);\n",
              "          const docLink = document.createElement('div');\n",
              "          docLink.innerHTML = docLinkHtml;\n",
              "          element.appendChild(docLink);\n",
              "        }\n",
              "      </script>\n",
              "    </div>\n",
              "  </div>\n",
              "  "
            ],
            "text/plain": [
              "   Idade    Sexo     IMC  Filhos Fumante     Regiao       Custos\n",
              "0     19  female  27.900       0     yes  southwest  16884.92400\n",
              "1     18    male  33.770       1      no  southeast   1725.55230\n",
              "2     28    male  33.000       3      no  southeast   4449.46200\n",
              "3     33    male  22.705       0      no  northwest  21984.47061\n",
              "4     32    male  28.880       0      no  northwest   3866.85520"
            ]
          },
          "metadata": {},
          "execution_count": 71
        }
      ]
    },
    {
      "cell_type": "code",
      "source": [
        "sexo = {\n",
        "    'female': '1',\n",
        "    'male': '0'\n",
        "}\n",
        "dict(sexo)"
      ],
      "metadata": {
        "colab": {
          "base_uri": "https://localhost:8080/"
        },
        "id": "eGBVqEN08PRs",
        "outputId": "d917de73-a9f5-488b-dc3f-7ab04781217c"
      },
      "execution_count": null,
      "outputs": [
        {
          "output_type": "execute_result",
          "data": {
            "text/plain": [
              "{'female': '1', 'male': '0'}"
            ]
          },
          "metadata": {},
          "execution_count": 72
        }
      ]
    },
    {
      "cell_type": "code",
      "source": [
        "sim_nao = {\n",
        "    'yes': 1,\n",
        "    'no': 0\n",
        "}\n",
        "dict(sim_nao)"
      ],
      "metadata": {
        "colab": {
          "base_uri": "https://localhost:8080/"
        },
        "id": "lnIPMi2xenv5",
        "outputId": "9e355876-5590-473f-9566-be71017e36b7"
      },
      "execution_count": null,
      "outputs": [
        {
          "output_type": "execute_result",
          "data": {
            "text/plain": [
              "{'no': 0, 'yes': 1}"
            ]
          },
          "metadata": {},
          "execution_count": 73
        }
      ]
    },
    {
      "cell_type": "code",
      "source": [
        "df.Fumante = df.Fumante.map(sim_nao)"
      ],
      "metadata": {
        "id": "JN6WZ5NHe3YP"
      },
      "execution_count": null,
      "outputs": []
    },
    {
      "cell_type": "code",
      "source": [
        "df.Sexo.map(sexo)"
      ],
      "metadata": {
        "colab": {
          "base_uri": "https://localhost:8080/"
        },
        "id": "-0gXLxub8e7l",
        "outputId": "987918d2-91d1-4952-e50d-0fda021955dc"
      },
      "execution_count": null,
      "outputs": [
        {
          "output_type": "execute_result",
          "data": {
            "text/plain": [
              "0       1\n",
              "1       0\n",
              "2       0\n",
              "3       0\n",
              "4       0\n",
              "       ..\n",
              "1333    0\n",
              "1334    1\n",
              "1335    1\n",
              "1336    1\n",
              "1337    1\n",
              "Name: Sexo, Length: 1338, dtype: object"
            ]
          },
          "metadata": {},
          "execution_count": 97
        }
      ]
    },
    {
      "cell_type": "code",
      "source": [
        "df.head()"
      ],
      "metadata": {
        "colab": {
          "base_uri": "https://localhost:8080/",
          "height": 206
        },
        "id": "polOSVQ7fx01",
        "outputId": "334c7ec6-75db-4fb3-b542-a60d4c86f738"
      },
      "execution_count": null,
      "outputs": [
        {
          "output_type": "execute_result",
          "data": {
            "text/html": [
              "\n",
              "  <div id=\"df-6da94291-74d8-4919-a8bf-abd7fb287892\">\n",
              "    <div class=\"colab-df-container\">\n",
              "      <div>\n",
              "<style scoped>\n",
              "    .dataframe tbody tr th:only-of-type {\n",
              "        vertical-align: middle;\n",
              "    }\n",
              "\n",
              "    .dataframe tbody tr th {\n",
              "        vertical-align: top;\n",
              "    }\n",
              "\n",
              "    .dataframe thead th {\n",
              "        text-align: right;\n",
              "    }\n",
              "</style>\n",
              "<table border=\"1\" class=\"dataframe\">\n",
              "  <thead>\n",
              "    <tr style=\"text-align: right;\">\n",
              "      <th></th>\n",
              "      <th>Idade</th>\n",
              "      <th>Sexo</th>\n",
              "      <th>IMC</th>\n",
              "      <th>Filhos</th>\n",
              "      <th>Fumante</th>\n",
              "      <th>Regiao</th>\n",
              "      <th>Custos</th>\n",
              "    </tr>\n",
              "  </thead>\n",
              "  <tbody>\n",
              "    <tr>\n",
              "      <th>0</th>\n",
              "      <td>19</td>\n",
              "      <td>female</td>\n",
              "      <td>27.900</td>\n",
              "      <td>0</td>\n",
              "      <td>1</td>\n",
              "      <td>southwest</td>\n",
              "      <td>16884.92400</td>\n",
              "    </tr>\n",
              "    <tr>\n",
              "      <th>1</th>\n",
              "      <td>18</td>\n",
              "      <td>male</td>\n",
              "      <td>33.770</td>\n",
              "      <td>1</td>\n",
              "      <td>0</td>\n",
              "      <td>southeast</td>\n",
              "      <td>1725.55230</td>\n",
              "    </tr>\n",
              "    <tr>\n",
              "      <th>2</th>\n",
              "      <td>28</td>\n",
              "      <td>male</td>\n",
              "      <td>33.000</td>\n",
              "      <td>3</td>\n",
              "      <td>0</td>\n",
              "      <td>southeast</td>\n",
              "      <td>4449.46200</td>\n",
              "    </tr>\n",
              "    <tr>\n",
              "      <th>3</th>\n",
              "      <td>33</td>\n",
              "      <td>male</td>\n",
              "      <td>22.705</td>\n",
              "      <td>0</td>\n",
              "      <td>0</td>\n",
              "      <td>northwest</td>\n",
              "      <td>21984.47061</td>\n",
              "    </tr>\n",
              "    <tr>\n",
              "      <th>4</th>\n",
              "      <td>32</td>\n",
              "      <td>male</td>\n",
              "      <td>28.880</td>\n",
              "      <td>0</td>\n",
              "      <td>0</td>\n",
              "      <td>northwest</td>\n",
              "      <td>3866.85520</td>\n",
              "    </tr>\n",
              "  </tbody>\n",
              "</table>\n",
              "</div>\n",
              "      <button class=\"colab-df-convert\" onclick=\"convertToInteractive('df-6da94291-74d8-4919-a8bf-abd7fb287892')\"\n",
              "              title=\"Convert this dataframe to an interactive table.\"\n",
              "              style=\"display:none;\">\n",
              "        \n",
              "  <svg xmlns=\"http://www.w3.org/2000/svg\" height=\"24px\"viewBox=\"0 0 24 24\"\n",
              "       width=\"24px\">\n",
              "    <path d=\"M0 0h24v24H0V0z\" fill=\"none\"/>\n",
              "    <path d=\"M18.56 5.44l.94 2.06.94-2.06 2.06-.94-2.06-.94-.94-2.06-.94 2.06-2.06.94zm-11 1L8.5 8.5l.94-2.06 2.06-.94-2.06-.94L8.5 2.5l-.94 2.06-2.06.94zm10 10l.94 2.06.94-2.06 2.06-.94-2.06-.94-.94-2.06-.94 2.06-2.06.94z\"/><path d=\"M17.41 7.96l-1.37-1.37c-.4-.4-.92-.59-1.43-.59-.52 0-1.04.2-1.43.59L10.3 9.45l-7.72 7.72c-.78.78-.78 2.05 0 2.83L4 21.41c.39.39.9.59 1.41.59.51 0 1.02-.2 1.41-.59l7.78-7.78 2.81-2.81c.8-.78.8-2.07 0-2.86zM5.41 20L4 18.59l7.72-7.72 1.47 1.35L5.41 20z\"/>\n",
              "  </svg>\n",
              "      </button>\n",
              "      \n",
              "  <style>\n",
              "    .colab-df-container {\n",
              "      display:flex;\n",
              "      flex-wrap:wrap;\n",
              "      gap: 12px;\n",
              "    }\n",
              "\n",
              "    .colab-df-convert {\n",
              "      background-color: #E8F0FE;\n",
              "      border: none;\n",
              "      border-radius: 50%;\n",
              "      cursor: pointer;\n",
              "      display: none;\n",
              "      fill: #1967D2;\n",
              "      height: 32px;\n",
              "      padding: 0 0 0 0;\n",
              "      width: 32px;\n",
              "    }\n",
              "\n",
              "    .colab-df-convert:hover {\n",
              "      background-color: #E2EBFA;\n",
              "      box-shadow: 0px 1px 2px rgba(60, 64, 67, 0.3), 0px 1px 3px 1px rgba(60, 64, 67, 0.15);\n",
              "      fill: #174EA6;\n",
              "    }\n",
              "\n",
              "    [theme=dark] .colab-df-convert {\n",
              "      background-color: #3B4455;\n",
              "      fill: #D2E3FC;\n",
              "    }\n",
              "\n",
              "    [theme=dark] .colab-df-convert:hover {\n",
              "      background-color: #434B5C;\n",
              "      box-shadow: 0px 1px 3px 1px rgba(0, 0, 0, 0.15);\n",
              "      filter: drop-shadow(0px 1px 2px rgba(0, 0, 0, 0.3));\n",
              "      fill: #FFFFFF;\n",
              "    }\n",
              "  </style>\n",
              "\n",
              "      <script>\n",
              "        const buttonEl =\n",
              "          document.querySelector('#df-6da94291-74d8-4919-a8bf-abd7fb287892 button.colab-df-convert');\n",
              "        buttonEl.style.display =\n",
              "          google.colab.kernel.accessAllowed ? 'block' : 'none';\n",
              "\n",
              "        async function convertToInteractive(key) {\n",
              "          const element = document.querySelector('#df-6da94291-74d8-4919-a8bf-abd7fb287892');\n",
              "          const dataTable =\n",
              "            await google.colab.kernel.invokeFunction('convertToInteractive',\n",
              "                                                     [key], {});\n",
              "          if (!dataTable) return;\n",
              "\n",
              "          const docLinkHtml = 'Like what you see? Visit the ' +\n",
              "            '<a target=\"_blank\" href=https://colab.research.google.com/notebooks/data_table.ipynb>data table notebook</a>'\n",
              "            + ' to learn more about interactive tables.';\n",
              "          element.innerHTML = '';\n",
              "          dataTable['output_type'] = 'display_data';\n",
              "          await google.colab.output.renderOutput(dataTable, element);\n",
              "          const docLink = document.createElement('div');\n",
              "          docLink.innerHTML = docLinkHtml;\n",
              "          element.appendChild(docLink);\n",
              "        }\n",
              "      </script>\n",
              "    </div>\n",
              "  </div>\n",
              "  "
            ],
            "text/plain": [
              "   Idade    Sexo     IMC  Filhos  Fumante     Regiao       Custos\n",
              "0     19  female  27.900       0        1  southwest  16884.92400\n",
              "1     18    male  33.770       1        0  southeast   1725.55230\n",
              "2     28    male  33.000       3        0  southeast   4449.46200\n",
              "3     33    male  22.705       0        0  northwest  21984.47061\n",
              "4     32    male  28.880       0        0  northwest   3866.85520"
            ]
          },
          "metadata": {},
          "execution_count": 98
        }
      ]
    },
    {
      "cell_type": "markdown",
      "source": [
        "###Model one"
      ],
      "metadata": {
        "id": "49vWmexkyKoc"
      }
    },
    {
      "cell_type": "code",
      "source": [
        "\n",
        "from sklearn import tree\n",
        "from sklearn.tree import DecisionTreeClassifier,export_graphviz\n",
        "from sklearn.model_selection import train_test_split\n",
        "from sklearn import metrics\n",
        "import numpy as np"
      ],
      "metadata": {
        "id": "gQjdavDhABmB"
      },
      "execution_count": null,
      "outputs": []
    },
    {
      "cell_type": "code",
      "source": [
        "cols = ['Idade','IMC', 'Fumante']"
      ],
      "metadata": {
        "id": "2ec0822aZmD_"
      },
      "execution_count": null,
      "outputs": []
    },
    {
      "cell_type": "code",
      "source": [
        "from sklearn.utils import shuffle\n",
        "df = shuffle(df).reset_index(drop=True)"
      ],
      "metadata": {
        "id": "zqKdjkrIZ5Bg"
      },
      "execution_count": null,
      "outputs": []
    },
    {
      "cell_type": "code",
      "source": [
        "simple = df[cols]\n",
        "\n",
        "simple.head(2)"
      ],
      "metadata": {
        "colab": {
          "base_uri": "https://localhost:8080/",
          "height": 112
        },
        "id": "fGi5fc8nZ6Kh",
        "outputId": "b6911e0b-146a-4170-b317-954347701da8"
      },
      "execution_count": null,
      "outputs": [
        {
          "output_type": "execute_result",
          "data": {
            "text/html": [
              "\n",
              "  <div id=\"df-f84dd89d-d656-4012-b57d-d894f703821d\">\n",
              "    <div class=\"colab-df-container\">\n",
              "      <div>\n",
              "<style scoped>\n",
              "    .dataframe tbody tr th:only-of-type {\n",
              "        vertical-align: middle;\n",
              "    }\n",
              "\n",
              "    .dataframe tbody tr th {\n",
              "        vertical-align: top;\n",
              "    }\n",
              "\n",
              "    .dataframe thead th {\n",
              "        text-align: right;\n",
              "    }\n",
              "</style>\n",
              "<table border=\"1\" class=\"dataframe\">\n",
              "  <thead>\n",
              "    <tr style=\"text-align: right;\">\n",
              "      <th></th>\n",
              "      <th>Idade</th>\n",
              "      <th>IMC</th>\n",
              "      <th>Fumante</th>\n",
              "    </tr>\n",
              "  </thead>\n",
              "  <tbody>\n",
              "    <tr>\n",
              "      <th>0</th>\n",
              "      <td>49</td>\n",
              "      <td>30.78</td>\n",
              "      <td>0</td>\n",
              "    </tr>\n",
              "    <tr>\n",
              "      <th>1</th>\n",
              "      <td>34</td>\n",
              "      <td>25.27</td>\n",
              "      <td>0</td>\n",
              "    </tr>\n",
              "  </tbody>\n",
              "</table>\n",
              "</div>\n",
              "      <button class=\"colab-df-convert\" onclick=\"convertToInteractive('df-f84dd89d-d656-4012-b57d-d894f703821d')\"\n",
              "              title=\"Convert this dataframe to an interactive table.\"\n",
              "              style=\"display:none;\">\n",
              "        \n",
              "  <svg xmlns=\"http://www.w3.org/2000/svg\" height=\"24px\"viewBox=\"0 0 24 24\"\n",
              "       width=\"24px\">\n",
              "    <path d=\"M0 0h24v24H0V0z\" fill=\"none\"/>\n",
              "    <path d=\"M18.56 5.44l.94 2.06.94-2.06 2.06-.94-2.06-.94-.94-2.06-.94 2.06-2.06.94zm-11 1L8.5 8.5l.94-2.06 2.06-.94-2.06-.94L8.5 2.5l-.94 2.06-2.06.94zm10 10l.94 2.06.94-2.06 2.06-.94-2.06-.94-.94-2.06-.94 2.06-2.06.94z\"/><path d=\"M17.41 7.96l-1.37-1.37c-.4-.4-.92-.59-1.43-.59-.52 0-1.04.2-1.43.59L10.3 9.45l-7.72 7.72c-.78.78-.78 2.05 0 2.83L4 21.41c.39.39.9.59 1.41.59.51 0 1.02-.2 1.41-.59l7.78-7.78 2.81-2.81c.8-.78.8-2.07 0-2.86zM5.41 20L4 18.59l7.72-7.72 1.47 1.35L5.41 20z\"/>\n",
              "  </svg>\n",
              "      </button>\n",
              "      \n",
              "  <style>\n",
              "    .colab-df-container {\n",
              "      display:flex;\n",
              "      flex-wrap:wrap;\n",
              "      gap: 12px;\n",
              "    }\n",
              "\n",
              "    .colab-df-convert {\n",
              "      background-color: #E8F0FE;\n",
              "      border: none;\n",
              "      border-radius: 50%;\n",
              "      cursor: pointer;\n",
              "      display: none;\n",
              "      fill: #1967D2;\n",
              "      height: 32px;\n",
              "      padding: 0 0 0 0;\n",
              "      width: 32px;\n",
              "    }\n",
              "\n",
              "    .colab-df-convert:hover {\n",
              "      background-color: #E2EBFA;\n",
              "      box-shadow: 0px 1px 2px rgba(60, 64, 67, 0.3), 0px 1px 3px 1px rgba(60, 64, 67, 0.15);\n",
              "      fill: #174EA6;\n",
              "    }\n",
              "\n",
              "    [theme=dark] .colab-df-convert {\n",
              "      background-color: #3B4455;\n",
              "      fill: #D2E3FC;\n",
              "    }\n",
              "\n",
              "    [theme=dark] .colab-df-convert:hover {\n",
              "      background-color: #434B5C;\n",
              "      box-shadow: 0px 1px 3px 1px rgba(0, 0, 0, 0.15);\n",
              "      filter: drop-shadow(0px 1px 2px rgba(0, 0, 0, 0.3));\n",
              "      fill: #FFFFFF;\n",
              "    }\n",
              "  </style>\n",
              "\n",
              "      <script>\n",
              "        const buttonEl =\n",
              "          document.querySelector('#df-f84dd89d-d656-4012-b57d-d894f703821d button.colab-df-convert');\n",
              "        buttonEl.style.display =\n",
              "          google.colab.kernel.accessAllowed ? 'block' : 'none';\n",
              "\n",
              "        async function convertToInteractive(key) {\n",
              "          const element = document.querySelector('#df-f84dd89d-d656-4012-b57d-d894f703821d');\n",
              "          const dataTable =\n",
              "            await google.colab.kernel.invokeFunction('convertToInteractive',\n",
              "                                                     [key], {});\n",
              "          if (!dataTable) return;\n",
              "\n",
              "          const docLinkHtml = 'Like what you see? Visit the ' +\n",
              "            '<a target=\"_blank\" href=https://colab.research.google.com/notebooks/data_table.ipynb>data table notebook</a>'\n",
              "            + ' to learn more about interactive tables.';\n",
              "          element.innerHTML = '';\n",
              "          dataTable['output_type'] = 'display_data';\n",
              "          await google.colab.output.renderOutput(dataTable, element);\n",
              "          const docLink = document.createElement('div');\n",
              "          docLink.innerHTML = docLinkHtml;\n",
              "          element.appendChild(docLink);\n",
              "        }\n",
              "      </script>\n",
              "    </div>\n",
              "  </div>\n",
              "  "
            ],
            "text/plain": [
              "   Idade    IMC  Fumante\n",
              "0     49  30.78        0\n",
              "1     34  25.27        0"
            ]
          },
          "metadata": {},
          "execution_count": 80
        }
      ]
    },
    {
      "cell_type": "code",
      "source": [
        "# Separando dados features e target\n",
        "Y = simple['Fumante']\n",
        "\n",
        "X = simple.loc[:, 'Idade':'IMC']"
      ],
      "metadata": {
        "id": "7IfplmBEaI1I"
      },
      "execution_count": null,
      "outputs": []
    },
    {
      "cell_type": "code",
      "source": [
        "# Separa dados de treino e validação\n",
        "\n",
        "Xtrain, Xval, y_train, y_val = train_test_split(X, Y, test_size=0.5, random_state=42)\n",
        "\n",
        "Xtrain.shape, Xval.shape, y_train.shape, y_val.shape"
      ],
      "metadata": {
        "colab": {
          "base_uri": "https://localhost:8080/"
        },
        "id": "7w-SG9LhaI30",
        "outputId": "f848af49-05b3-42f5-daab-a119b5e5ecaa"
      },
      "execution_count": null,
      "outputs": [
        {
          "output_type": "execute_result",
          "data": {
            "text/plain": [
              "((669, 2), (669, 2), (669,), (669,))"
            ]
          },
          "metadata": {},
          "execution_count": 82
        }
      ]
    },
    {
      "cell_type": "code",
      "source": [
        "#Dados dos fumantes\n",
        "y_train.value_counts()"
      ],
      "metadata": {
        "colab": {
          "base_uri": "https://localhost:8080/"
        },
        "id": "BXU2DvTeaI6d",
        "outputId": "c7de9eba-d5be-40ba-b97f-580545aa8a8a"
      },
      "execution_count": null,
      "outputs": [
        {
          "output_type": "execute_result",
          "data": {
            "text/plain": [
              "0    529\n",
              "1    140\n",
              "Name: Fumante, dtype: int64"
            ]
          },
          "metadata": {},
          "execution_count": 83
        }
      ]
    },
    {
      "cell_type": "code",
      "source": [
        "# Modelo\n",
        "model = DecisionTreeClassifier(random_state= 42)\n",
        "model.fit(Xtrain,y_train)"
      ],
      "metadata": {
        "colab": {
          "base_uri": "https://localhost:8080/"
        },
        "id": "tb3UgMk7aI9P",
        "outputId": "c293fc26-081f-44fc-8692-52d63295929a"
      },
      "execution_count": null,
      "outputs": [
        {
          "output_type": "execute_result",
          "data": {
            "text/plain": [
              "DecisionTreeClassifier(random_state=42)"
            ]
          },
          "metadata": {},
          "execution_count": 84
        }
      ]
    },
    {
      "cell_type": "code",
      "source": [
        "# Previsão\n",
        "pred = model.predict(Xval)"
      ],
      "metadata": {
        "id": "Tr1mgyWqctTj"
      },
      "execution_count": null,
      "outputs": []
    },
    {
      "cell_type": "code",
      "source": [
        "# Importa métricas\n",
        "from sklearn.metrics import roc_auc_score, average_precision_score"
      ],
      "metadata": {
        "id": "m7kGKSKKctWO"
      },
      "execution_count": null,
      "outputs": []
    },
    {
      "cell_type": "code",
      "source": [
        "#base line para avaliações de comparações\n",
        "print('average_precision_score :', np.round(average_precision_score(y_val, pred),4))\n",
        "print('roc_auc_score :', np.round(roc_auc_score(y_val, pred),4))"
      ],
      "metadata": {
        "colab": {
          "base_uri": "https://localhost:8080/"
        },
        "id": "tpnVWnwZctY6",
        "outputId": "cb0d556c-33ba-4009-e7d1-b259d2a3ab4e"
      },
      "execution_count": null,
      "outputs": [
        {
          "output_type": "stream",
          "name": "stdout",
          "text": [
            "average_precision_score : 0.1967\n",
            "roc_auc_score : 0.4877\n"
          ]
        }
      ]
    },
    {
      "cell_type": "markdown",
      "source": [
        ""
      ],
      "metadata": {
        "id": "ULReP8kcqnzl"
      }
    },
    {
      "cell_type": "code",
      "source": [
        "from sklearn.tree import plot_tree\n",
        "%matplotlib inline\n",
        "%pylab inline"
      ],
      "metadata": {
        "id": "fvVaYF_cdbBO"
      },
      "execution_count": null,
      "outputs": []
    },
    {
      "cell_type": "code",
      "source": [
        "fig,ax = pylab.subplots(1,1, figsize = (15,15))\n",
        "plot_tree(model , ax = ax, feature_names = Xtrain.columns);"
      ],
      "metadata": {
        "colab": {
          "base_uri": "https://localhost:8080/",
          "height": 845
        },
        "id": "8z6rSpCVdbEL",
        "outputId": "2a47f3cc-7788-4cac-d82f-74257bb9e83b"
      },
      "execution_count": null,
      "outputs": [
        {
          "output_type": "display_data",
          "data": {
            "image/png": "[encoded data removed]",
            "text/plain": [
              "<Figure size 1080x1080 with 1 Axes>"
            ]
          },
          "metadata": {
            "needs_background": "light"
          }
        }
      ]
    },
    {
      "cell_type": "markdown",
      "source": [
        "###Strategy one"
      ],
      "metadata": {
        "id": "nLhPNnZ5rI_9"
      }
    },
    {
      "cell_type": "code",
      "source": [
        "df.head()"
      ],
      "metadata": {
        "colab": {
          "base_uri": "https://localhost:8080/",
          "height": 206
        },
        "id": "sHl76djPrlIY",
        "outputId": "4b180b04-50e9-4d3a-dd6e-8fa9ec74572a"
      },
      "execution_count": null,
      "outputs": [
        {
          "output_type": "execute_result",
          "data": {
            "text/html": [
              "\n",
              "  <div id=\"df-8e24b6f9-3b1c-4c65-b9a5-8f6aab6f4f7c\">\n",
              "    <div class=\"colab-df-container\">\n",
              "      <div>\n",
              "<style scoped>\n",
              "    .dataframe tbody tr th:only-of-type {\n",
              "        vertical-align: middle;\n",
              "    }\n",
              "\n",
              "    .dataframe tbody tr th {\n",
              "        vertical-align: top;\n",
              "    }\n",
              "\n",
              "    .dataframe thead th {\n",
              "        text-align: right;\n",
              "    }\n",
              "</style>\n",
              "<table border=\"1\" class=\"dataframe\">\n",
              "  <thead>\n",
              "    <tr style=\"text-align: right;\">\n",
              "      <th></th>\n",
              "      <th>Idade</th>\n",
              "      <th>Sexo</th>\n",
              "      <th>IMC</th>\n",
              "      <th>Filhos</th>\n",
              "      <th>Fumante</th>\n",
              "      <th>Regiao</th>\n",
              "      <th>Custos</th>\n",
              "    </tr>\n",
              "  </thead>\n",
              "  <tbody>\n",
              "    <tr>\n",
              "      <th>0</th>\n",
              "      <td>19</td>\n",
              "      <td>female</td>\n",
              "      <td>27.900</td>\n",
              "      <td>0</td>\n",
              "      <td>1</td>\n",
              "      <td>southwest</td>\n",
              "      <td>16884.92400</td>\n",
              "    </tr>\n",
              "    <tr>\n",
              "      <th>1</th>\n",
              "      <td>18</td>\n",
              "      <td>male</td>\n",
              "      <td>33.770</td>\n",
              "      <td>1</td>\n",
              "      <td>0</td>\n",
              "      <td>southeast</td>\n",
              "      <td>1725.55230</td>\n",
              "    </tr>\n",
              "    <tr>\n",
              "      <th>2</th>\n",
              "      <td>28</td>\n",
              "      <td>male</td>\n",
              "      <td>33.000</td>\n",
              "      <td>3</td>\n",
              "      <td>0</td>\n",
              "      <td>southeast</td>\n",
              "      <td>4449.46200</td>\n",
              "    </tr>\n",
              "    <tr>\n",
              "      <th>3</th>\n",
              "      <td>33</td>\n",
              "      <td>male</td>\n",
              "      <td>22.705</td>\n",
              "      <td>0</td>\n",
              "      <td>0</td>\n",
              "      <td>northwest</td>\n",
              "      <td>21984.47061</td>\n",
              "    </tr>\n",
              "    <tr>\n",
              "      <th>4</th>\n",
              "      <td>32</td>\n",
              "      <td>male</td>\n",
              "      <td>28.880</td>\n",
              "      <td>0</td>\n",
              "      <td>0</td>\n",
              "      <td>northwest</td>\n",
              "      <td>3866.85520</td>\n",
              "    </tr>\n",
              "  </tbody>\n",
              "</table>\n",
              "</div>\n",
              "      <button class=\"colab-df-convert\" onclick=\"convertToInteractive('df-8e24b6f9-3b1c-4c65-b9a5-8f6aab6f4f7c')\"\n",
              "              title=\"Convert this dataframe to an interactive table.\"\n",
              "              style=\"display:none;\">\n",
              "        \n",
              "  <svg xmlns=\"http://www.w3.org/2000/svg\" height=\"24px\"viewBox=\"0 0 24 24\"\n",
              "       width=\"24px\">\n",
              "    <path d=\"M0 0h24v24H0V0z\" fill=\"none\"/>\n",
              "    <path d=\"M18.56 5.44l.94 2.06.94-2.06 2.06-.94-2.06-.94-.94-2.06-.94 2.06-2.06.94zm-11 1L8.5 8.5l.94-2.06 2.06-.94-2.06-.94L8.5 2.5l-.94 2.06-2.06.94zm10 10l.94 2.06.94-2.06 2.06-.94-2.06-.94-.94-2.06-.94 2.06-2.06.94z\"/><path d=\"M17.41 7.96l-1.37-1.37c-.4-.4-.92-.59-1.43-.59-.52 0-1.04.2-1.43.59L10.3 9.45l-7.72 7.72c-.78.78-.78 2.05 0 2.83L4 21.41c.39.39.9.59 1.41.59.51 0 1.02-.2 1.41-.59l7.78-7.78 2.81-2.81c.8-.78.8-2.07 0-2.86zM5.41 20L4 18.59l7.72-7.72 1.47 1.35L5.41 20z\"/>\n",
              "  </svg>\n",
              "      </button>\n",
              "      \n",
              "  <style>\n",
              "    .colab-df-container {\n",
              "      display:flex;\n",
              "      flex-wrap:wrap;\n",
              "      gap: 12px;\n",
              "    }\n",
              "\n",
              "    .colab-df-convert {\n",
              "      background-color: #E8F0FE;\n",
              "      border: none;\n",
              "      border-radius: 50%;\n",
              "      cursor: pointer;\n",
              "      display: none;\n",
              "      fill: #1967D2;\n",
              "      height: 32px;\n",
              "      padding: 0 0 0 0;\n",
              "      width: 32px;\n",
              "    }\n",
              "\n",
              "    .colab-df-convert:hover {\n",
              "      background-color: #E2EBFA;\n",
              "      box-shadow: 0px 1px 2px rgba(60, 64, 67, 0.3), 0px 1px 3px 1px rgba(60, 64, 67, 0.15);\n",
              "      fill: #174EA6;\n",
              "    }\n",
              "\n",
              "    [theme=dark] .colab-df-convert {\n",
              "      background-color: #3B4455;\n",
              "      fill: #D2E3FC;\n",
              "    }\n",
              "\n",
              "    [theme=dark] .colab-df-convert:hover {\n",
              "      background-color: #434B5C;\n",
              "      box-shadow: 0px 1px 3px 1px rgba(0, 0, 0, 0.15);\n",
              "      filter: drop-shadow(0px 1px 2px rgba(0, 0, 0, 0.3));\n",
              "      fill: #FFFFFF;\n",
              "    }\n",
              "  </style>\n",
              "\n",
              "      <script>\n",
              "        const buttonEl =\n",
              "          document.querySelector('#df-8e24b6f9-3b1c-4c65-b9a5-8f6aab6f4f7c button.colab-df-convert');\n",
              "        buttonEl.style.display =\n",
              "          google.colab.kernel.accessAllowed ? 'block' : 'none';\n",
              "\n",
              "        async function convertToInteractive(key) {\n",
              "          const element = document.querySelector('#df-8e24b6f9-3b1c-4c65-b9a5-8f6aab6f4f7c');\n",
              "          const dataTable =\n",
              "            await google.colab.kernel.invokeFunction('convertToInteractive',\n",
              "                                                     [key], {});\n",
              "          if (!dataTable) return;\n",
              "\n",
              "          const docLinkHtml = 'Like what you see? Visit the ' +\n",
              "            '<a target=\"_blank\" href=https://colab.research.google.com/notebooks/data_table.ipynb>data table notebook</a>'\n",
              "            + ' to learn more about interactive tables.';\n",
              "          element.innerHTML = '';\n",
              "          dataTable['output_type'] = 'display_data';\n",
              "          await google.colab.output.renderOutput(dataTable, element);\n",
              "          const docLink = document.createElement('div');\n",
              "          docLink.innerHTML = docLinkHtml;\n",
              "          element.appendChild(docLink);\n",
              "        }\n",
              "      </script>\n",
              "    </div>\n",
              "  </div>\n",
              "  "
            ],
            "text/plain": [
              "   Idade    Sexo     IMC  Filhos  Fumante     Regiao       Custos\n",
              "0     19  female  27.900       0        1  southwest  16884.92400\n",
              "1     18    male  33.770       1        0  southeast   1725.55230\n",
              "2     28    male  33.000       3        0  southeast   4449.46200\n",
              "3     33    male  22.705       0        0  northwest  21984.47061\n",
              "4     32    male  28.880       0        0  northwest   3866.85520"
            ]
          },
          "metadata": {},
          "execution_count": 99
        }
      ]
    },
    {
      "cell_type": "code",
      "source": [
        "cols = ['Idade','IMC', 'Custos', 'Fumante']"
      ],
      "metadata": {
        "id": "iqgZ6Aj7ruPA"
      },
      "execution_count": null,
      "outputs": []
    },
    {
      "cell_type": "code",
      "source": [
        "from sklearn.utils import shuffle\n",
        "df = shuffle(df).reset_index(drop=True)"
      ],
      "metadata": {
        "id": "Rt3pNaZKsWLd"
      },
      "execution_count": null,
      "outputs": []
    },
    {
      "cell_type": "code",
      "source": [
        "simple_df = df[cols]\n",
        "simple_df.head(2)"
      ],
      "metadata": {
        "colab": {
          "base_uri": "https://localhost:8080/",
          "height": 112
        },
        "id": "xQLPsmv3saAM",
        "outputId": "8ab08b49-d349-4ff5-9273-621d3d375421"
      },
      "execution_count": null,
      "outputs": [
        {
          "output_type": "execute_result",
          "data": {
            "text/html": [
              "\n",
              "  <div id=\"df-2acee4ae-f0a7-449e-9d7d-ead32d5a2d6d\">\n",
              "    <div class=\"colab-df-container\">\n",
              "      <div>\n",
              "<style scoped>\n",
              "    .dataframe tbody tr th:only-of-type {\n",
              "        vertical-align: middle;\n",
              "    }\n",
              "\n",
              "    .dataframe tbody tr th {\n",
              "        vertical-align: top;\n",
              "    }\n",
              "\n",
              "    .dataframe thead th {\n",
              "        text-align: right;\n",
              "    }\n",
              "</style>\n",
              "<table border=\"1\" class=\"dataframe\">\n",
              "  <thead>\n",
              "    <tr style=\"text-align: right;\">\n",
              "      <th></th>\n",
              "      <th>Idade</th>\n",
              "      <th>IMC</th>\n",
              "      <th>Custos</th>\n",
              "      <th>Fumante</th>\n",
              "    </tr>\n",
              "  </thead>\n",
              "  <tbody>\n",
              "    <tr>\n",
              "      <th>0</th>\n",
              "      <td>63</td>\n",
              "      <td>35.2</td>\n",
              "      <td>14474.675</td>\n",
              "      <td>0</td>\n",
              "    </tr>\n",
              "    <tr>\n",
              "      <th>1</th>\n",
              "      <td>63</td>\n",
              "      <td>36.3</td>\n",
              "      <td>13887.204</td>\n",
              "      <td>0</td>\n",
              "    </tr>\n",
              "  </tbody>\n",
              "</table>\n",
              "</div>\n",
              "      <button class=\"colab-df-convert\" onclick=\"convertToInteractive('df-2acee4ae-f0a7-449e-9d7d-ead32d5a2d6d')\"\n",
              "              title=\"Convert this dataframe to an interactive table.\"\n",
              "              style=\"display:none;\">\n",
              "        \n",
              "  <svg xmlns=\"http://www.w3.org/2000/svg\" height=\"24px\"viewBox=\"0 0 24 24\"\n",
              "       width=\"24px\">\n",
              "    <path d=\"M0 0h24v24H0V0z\" fill=\"none\"/>\n",
              "    <path d=\"M18.56 5.44l.94 2.06.94-2.06 2.06-.94-2.06-.94-.94-2.06-.94 2.06-2.06.94zm-11 1L8.5 8.5l.94-2.06 2.06-.94-2.06-.94L8.5 2.5l-.94 2.06-2.06.94zm10 10l.94 2.06.94-2.06 2.06-.94-2.06-.94-.94-2.06-.94 2.06-2.06.94z\"/><path d=\"M17.41 7.96l-1.37-1.37c-.4-.4-.92-.59-1.43-.59-.52 0-1.04.2-1.43.59L10.3 9.45l-7.72 7.72c-.78.78-.78 2.05 0 2.83L4 21.41c.39.39.9.59 1.41.59.51 0 1.02-.2 1.41-.59l7.78-7.78 2.81-2.81c.8-.78.8-2.07 0-2.86zM5.41 20L4 18.59l7.72-7.72 1.47 1.35L5.41 20z\"/>\n",
              "  </svg>\n",
              "      </button>\n",
              "      \n",
              "  <style>\n",
              "    .colab-df-container {\n",
              "      display:flex;\n",
              "      flex-wrap:wrap;\n",
              "      gap: 12px;\n",
              "    }\n",
              "\n",
              "    .colab-df-convert {\n",
              "      background-color: #E8F0FE;\n",
              "      border: none;\n",
              "      border-radius: 50%;\n",
              "      cursor: pointer;\n",
              "      display: none;\n",
              "      fill: #1967D2;\n",
              "      height: 32px;\n",
              "      padding: 0 0 0 0;\n",
              "      width: 32px;\n",
              "    }\n",
              "\n",
              "    .colab-df-convert:hover {\n",
              "      background-color: #E2EBFA;\n",
              "      box-shadow: 0px 1px 2px rgba(60, 64, 67, 0.3), 0px 1px 3px 1px rgba(60, 64, 67, 0.15);\n",
              "      fill: #174EA6;\n",
              "    }\n",
              "\n",
              "    [theme=dark] .colab-df-convert {\n",
              "      background-color: #3B4455;\n",
              "      fill: #D2E3FC;\n",
              "    }\n",
              "\n",
              "    [theme=dark] .colab-df-convert:hover {\n",
              "      background-color: #434B5C;\n",
              "      box-shadow: 0px 1px 3px 1px rgba(0, 0, 0, 0.15);\n",
              "      filter: drop-shadow(0px 1px 2px rgba(0, 0, 0, 0.3));\n",
              "      fill: #FFFFFF;\n",
              "    }\n",
              "  </style>\n",
              "\n",
              "      <script>\n",
              "        const buttonEl =\n",
              "          document.querySelector('#df-2acee4ae-f0a7-449e-9d7d-ead32d5a2d6d button.colab-df-convert');\n",
              "        buttonEl.style.display =\n",
              "          google.colab.kernel.accessAllowed ? 'block' : 'none';\n",
              "\n",
              "        async function convertToInteractive(key) {\n",
              "          const element = document.querySelector('#df-2acee4ae-f0a7-449e-9d7d-ead32d5a2d6d');\n",
              "          const dataTable =\n",
              "            await google.colab.kernel.invokeFunction('convertToInteractive',\n",
              "                                                     [key], {});\n",
              "          if (!dataTable) return;\n",
              "\n",
              "          const docLinkHtml = 'Like what you see? Visit the ' +\n",
              "            '<a target=\"_blank\" href=https://colab.research.google.com/notebooks/data_table.ipynb>data table notebook</a>'\n",
              "            + ' to learn more about interactive tables.';\n",
              "          element.innerHTML = '';\n",
              "          dataTable['output_type'] = 'display_data';\n",
              "          await google.colab.output.renderOutput(dataTable, element);\n",
              "          const docLink = document.createElement('div');\n",
              "          docLink.innerHTML = docLinkHtml;\n",
              "          element.appendChild(docLink);\n",
              "        }\n",
              "      </script>\n",
              "    </div>\n",
              "  </div>\n",
              "  "
            ],
            "text/plain": [
              "   Idade   IMC     Custos  Fumante\n",
              "0     63  35.2  14474.675        0\n",
              "1     63  36.3  13887.204        0"
            ]
          },
          "metadata": {},
          "execution_count": 111
        }
      ]
    },
    {
      "cell_type": "code",
      "source": [
        "# Separando dados features e target\n",
        "Y = simple_df['Fumante']\n",
        "X = simple_df.loc[:, 'Idade':'Custos']"
      ],
      "metadata": {
        "id": "IBjU5bCOsdAp"
      },
      "execution_count": null,
      "outputs": []
    },
    {
      "cell_type": "code",
      "source": [
        "# Separa dados de treino e validação\n",
        "Xtrain, Xval, y_train, y_val = train_test_split(X, Y, test_size=0.5, random_state=42)\n",
        "Xtrain.shape, Xval.shape, y_train.shape, y_val.shape"
      ],
      "metadata": {
        "colab": {
          "base_uri": "https://localhost:8080/"
        },
        "id": "8Nfjm7B-tCfM",
        "outputId": "b7861284-0348-42cc-a6ad-89f4becbbfe4"
      },
      "execution_count": null,
      "outputs": [
        {
          "output_type": "execute_result",
          "data": {
            "text/plain": [
              "((669, 3), (669, 3), (669,), (669,))"
            ]
          },
          "metadata": {},
          "execution_count": 113
        }
      ]
    },
    {
      "cell_type": "code",
      "source": [
        "# Modelo\n",
        "model = DecisionTreeClassifier(random_state= 42)\n",
        "model.fit(Xtrain,y_train)"
      ],
      "metadata": {
        "colab": {
          "base_uri": "https://localhost:8080/"
        },
        "id": "9Dje_mnctJk-",
        "outputId": "c5c3fe3f-0fb6-46b3-a7fd-027578f2e2ae"
      },
      "execution_count": null,
      "outputs": [
        {
          "output_type": "execute_result",
          "data": {
            "text/plain": [
              "DecisionTreeClassifier(random_state=42)"
            ]
          },
          "metadata": {},
          "execution_count": 114
        }
      ]
    },
    {
      "cell_type": "code",
      "source": [
        "# Previsão\n",
        "pred = model.predict(Xval)"
      ],
      "metadata": {
        "id": "fbNQJ6KstMpn"
      },
      "execution_count": null,
      "outputs": []
    },
    {
      "cell_type": "code",
      "source": [
        "# Importa métricas\n",
        "from sklearn.metrics import roc_auc_score, average_precision_score\n",
        "print('average_precision_score :', np.round(average_precision_score(y_val, pred),4))\n",
        "print('roc_auc_score :', np.round(roc_auc_score(y_val, pred),4))"
      ],
      "metadata": {
        "colab": {
          "base_uri": "https://localhost:8080/"
        },
        "id": "nCILRV8gtczX",
        "outputId": "94f3c4cc-bcf3-4323-a7c3-a7429a7be7eb"
      },
      "execution_count": null,
      "outputs": [
        {
          "output_type": "stream",
          "name": "stdout",
          "text": [
            "average_precision_score : 0.8292\n",
            "roc_auc_score : 0.928\n"
          ]
        }
      ]
    },
    {
      "cell_type": "code",
      "source": [
        ""
      ],
      "metadata": {
        "id": "95eryfyNtc2J"
      },
      "execution_count": null,
      "outputs": []
    },
    {
      "cell_type": "markdown",
      "source": [
        "###Strategy two - Tuning"
      ],
      "metadata": {
        "id": "QL5Ril8Zyg-o"
      }
    },
    {
      "cell_type": "code",
      "source": [
        "!pip install scikit-optimize"
      ],
      "metadata": {
        "id": "JzzaEjEEzV67"
      },
      "execution_count": null,
      "outputs": []
    },
    {
      "cell_type": "code",
      "source": [
        "#Bayesian Optimization\n",
        "from skopt import forest_minimize"
      ],
      "metadata": {
        "id": "QIgU4nf9yxXs"
      },
      "execution_count": null,
      "outputs": []
    },
    {
      "cell_type": "code",
      "source": [
        "def tune_dtree(params):\n",
        "    print(params)\n",
        "    max_depth = params[0]\n",
        "    min_samples_split = params[1]\n",
        "    min_samples_leaf = params[2]\n",
        "    max_features = params[3]\n",
        "    criterion = params[4]\n",
        "    \n",
        "    \n",
        "    model = DecisionTreeClassifier(max_depth = max_depth,\n",
        "                                  min_samples_split = min_samples_split,\n",
        "                                  min_samples_leaf = min_samples_leaf,\n",
        "                                  max_features = max_features,\n",
        "                                  criterion = criterion,\n",
        "                                  random_state = 42,\n",
        "                                  class_weight = 'balanced')\n",
        "    \n",
        "    \n",
        "    model.fit(Xtrain,y_train)\n",
        "    \n",
        "    pred = model.predict(Xval)\n",
        "    \n",
        "    print()\n",
        "    print('roc_auc_score :', np.round(roc_auc_score(y_val, pred),6))\n",
        "    print('average_precision_score :', np.round(average_precision_score(y_val, pred),6))\n",
        "    print()\n",
        "    \n",
        "    \n",
        "    return - average_precision_score(y_val, pred)\n",
        "\n",
        "space = [(2,30), #max_depth\n",
        "         (5,30), # min_samples_split\n",
        "         (1,10), # min_sample_leaf\n",
        "         (1,3), # max_features\n",
        "         ('gini','entropy')] # criterion \n",
        "         \n",
        "\n",
        "res = forest_minimize(tune_dtree,\n",
        "                     space,\n",
        "                     random_state = 42,\n",
        "                     n_random_starts = 20,\n",
        "                     n_calls = 50,\n",
        "                     verbose = 1)"
      ],
      "metadata": {
        "id": "0NnOoU-TzBIT",
        "colab": {
          "base_uri": "https://localhost:8080/"
        },
        "outputId": "7a1b0994-533a-4e5f-fcbb-b22b4a96e625"
      },
      "execution_count": null,
      "outputs": [
        {
          "output_type": "stream",
          "name": "stdout",
          "text": [
            "Iteration No: 1 started. Evaluating function at random point.\n",
            "[21, 19, 8, 1, 'entropy']\n",
            "\n",
            "roc_auc_score : 0.94388\n",
            "average_precision_score : 0.703643\n",
            "\n",
            "Iteration No: 1 ended. Evaluation done at random point.\n",
            "Time taken: 0.0126\n",
            "Function value obtained: -0.7036\n",
            "Current minimum: -0.7036\n",
            "Iteration No: 2 started. Evaluating function at random point.\n",
            "[27, 23, 7, 3, 'gini']\n",
            "\n",
            "roc_auc_score : 0.964948\n",
            "average_precision_score : 0.766653\n",
            "\n",
            "Iteration No: 2 ended. Evaluation done at random point.\n",
            "Time taken: 0.0102\n",
            "Function value obtained: -0.7667\n",
            "Current minimum: -0.7667\n",
            "Iteration No: 3 started. Evaluating function at random point.\n",
            "[22, 8, 8, 3, 'gini']\n",
            "\n",
            "roc_auc_score : 0.964948\n",
            "average_precision_score : 0.766653\n",
            "\n",
            "Iteration No: 3 ended. Evaluation done at random point.\n",
            "Time taken: 0.0110\n",
            "Function value obtained: -0.7667\n",
            "Current minimum: -0.7667\n",
            "Iteration No: 4 started. Evaluating function at random point.\n",
            "[3, 28, 6, 2, 'gini']\n",
            "\n",
            "roc_auc_score : 0.965852\n",
            "average_precision_score : 0.771823\n",
            "\n",
            "Iteration No: 4 ended. Evaluation done at random point.\n",
            "Time taken: 0.0160\n",
            "Function value obtained: -0.7718\n",
            "Current minimum: -0.7718\n",
            "Iteration No: 5 started. Evaluating function at random point.\n",
            "[22, 5, 10, 2, 'gini']\n",
            "\n",
            "roc_auc_score : 0.970584\n",
            "average_precision_score : 0.820759\n",
            "\n",
            "Iteration No: 5 ended. Evaluation done at random point.\n",
            "Time taken: 0.0107\n",
            "Function value obtained: -0.8208\n",
            "Current minimum: -0.8208\n",
            "Iteration No: 6 started. Evaluating function at random point.\n",
            "[26, 21, 10, 3, 'gini']\n",
            "\n",
            "roc_auc_score : 0.970584\n",
            "average_precision_score : 0.820759\n",
            "\n",
            "Iteration No: 6 ended. Evaluation done at random point.\n",
            "Time taken: 0.0107\n",
            "Function value obtained: -0.8208\n",
            "Current minimum: -0.8208\n",
            "Iteration No: 7 started. Evaluating function at random point.\n",
            "[16, 23, 7, 1, 'gini']\n",
            "\n",
            "roc_auc_score : 0.939842\n",
            "average_precision_score : 0.658162\n",
            "\n",
            "Iteration No: 7 ended. Evaluation done at random point.\n",
            "Time taken: 0.0099\n",
            "Function value obtained: -0.6582\n",
            "Current minimum: -0.8208\n",
            "Iteration No: 8 started. Evaluating function at random point.\n",
            "[20, 11, 5, 1, 'gini']\n",
            "\n",
            "roc_auc_score : 0.941588\n",
            "average_precision_score : 0.723423\n",
            "\n",
            "Iteration No: 8 ended. Evaluation done at random point.\n",
            "Time taken: 0.0135\n",
            "Function value obtained: -0.7234\n",
            "Current minimum: -0.8208\n",
            "Iteration No: 9 started. Evaluating function at random point.\n",
            "[5, 29, 2, 2, 'gini']\n",
            "\n",
            "roc_auc_score : 0.967177\n",
            "average_precision_score : 0.819874\n",
            "\n",
            "Iteration No: 9 ended. Evaluation done at random point.\n",
            "Time taken: 0.0146\n",
            "Function value obtained: -0.8199\n",
            "Current minimum: -0.8208\n",
            "Iteration No: 10 started. Evaluating function at random point.\n",
            "[22, 6, 4, 3, 'entropy']\n",
            "\n",
            "roc_auc_score : 0.936584\n",
            "average_precision_score : 0.730185\n",
            "\n",
            "Iteration No: 10 ended. Evaluation done at random point.\n",
            "Time taken: 0.0156\n",
            "Function value obtained: -0.7302\n",
            "Current minimum: -0.8208\n",
            "Iteration No: 11 started. Evaluating function at random point.\n",
            "[13, 12, 3, 2, 'gini']\n",
            "\n",
            "roc_auc_score : 0.966273\n",
            "average_precision_score : 0.813878\n",
            "\n",
            "Iteration No: 11 ended. Evaluation done at random point.\n",
            "Time taken: 0.0162\n",
            "Function value obtained: -0.8139\n",
            "Current minimum: -0.8208\n",
            "Iteration No: 12 started. Evaluating function at random point.\n",
            "[19, 12, 4, 2, 'gini']\n",
            "\n",
            "roc_auc_score : 0.962657\n",
            "average_precision_score : 0.790753\n",
            "\n",
            "Iteration No: 12 ended. Evaluation done at random point.\n",
            "Time taken: 0.0156\n",
            "Function value obtained: -0.7908\n",
            "Current minimum: -0.8208\n",
            "Iteration No: 13 started. Evaluating function at random point.\n",
            "[23, 14, 4, 2, 'gini']\n",
            "\n",
            "roc_auc_score : 0.962657\n",
            "average_precision_score : 0.790753\n",
            "\n",
            "Iteration No: 13 ended. Evaluation done at random point.\n",
            "Time taken: 0.0178\n",
            "Function value obtained: -0.7908\n",
            "Current minimum: -0.8208\n",
            "Iteration No: 14 started. Evaluating function at random point.\n",
            "[19, 30, 2, 2, 'entropy']\n",
            "\n",
            "roc_auc_score : 0.940201\n",
            "average_precision_score : 0.751309\n",
            "\n",
            "Iteration No: 14 ended. Evaluation done at random point.\n",
            "Time taken: 0.0153\n",
            "Function value obtained: -0.7513\n",
            "Current minimum: -0.8208\n",
            "Iteration No: 15 started. Evaluating function at random point.\n",
            "[15, 20, 8, 2, 'gini']\n",
            "\n",
            "roc_auc_score : 0.96314\n",
            "average_precision_score : 0.756519\n",
            "\n",
            "Iteration No: 15 ended. Evaluation done at random point.\n",
            "Time taken: 0.0166\n",
            "Function value obtained: -0.7565\n",
            "Current minimum: -0.8208\n",
            "Iteration No: 16 started. Evaluating function at random point.\n",
            "[26, 12, 5, 1, 'gini']\n",
            "\n",
            "roc_auc_score : 0.941588\n",
            "average_precision_score : 0.723423\n",
            "\n",
            "Iteration No: 16 ended. Evaluation done at random point.\n",
            "Time taken: 0.0144\n",
            "Function value obtained: -0.7234\n",
            "Current minimum: -0.8208\n",
            "Iteration No: 17 started. Evaluating function at random point.\n",
            "[22, 28, 10, 1, 'gini']\n",
            "\n",
            "roc_auc_score : 0.896864\n",
            "average_precision_score : 0.528385\n",
            "\n",
            "Iteration No: 17 ended. Evaluation done at random point.\n",
            "Time taken: 0.0156\n",
            "Function value obtained: -0.5284\n",
            "Current minimum: -0.8208\n",
            "Iteration No: 18 started. Evaluating function at random point.\n",
            "[29, 17, 9, 1, 'entropy']\n",
            "\n",
            "roc_auc_score : 0.940263\n",
            "average_precision_score : 0.686092\n",
            "\n",
            "Iteration No: 18 ended. Evaluation done at random point.\n",
            "Time taken: 0.0148\n",
            "Function value obtained: -0.6861\n",
            "Current minimum: -0.8208\n",
            "Iteration No: 19 started. Evaluating function at random point.\n",
            "[2, 29, 7, 1, 'entropy']\n",
            "\n",
            "roc_auc_score : 0.479797\n",
            "average_precision_score : 0.167826\n",
            "\n",
            "Iteration No: 19 ended. Evaluation done at random point.\n",
            "Time taken: 0.0141\n",
            "Function value obtained: -0.1678\n",
            "Current minimum: -0.8208\n",
            "Iteration No: 20 started. Evaluating function at random point.\n",
            "[13, 12, 8, 3, 'entropy']\n",
            "\n",
            "roc_auc_score : 0.942976\n",
            "average_precision_score : 0.699171\n",
            "\n",
            "Iteration No: 20 ended. Evaluation done at random point.\n",
            "Time taken: 0.2940\n",
            "Function value obtained: -0.6992\n",
            "Current minimum: -0.8208\n",
            "Iteration No: 21 started. Searching for the next optimal point.\n",
            "[12, 29, 1, 2, 'gini']\n",
            "\n",
            "roc_auc_score : 0.96989\n",
            "average_precision_score : 0.838405\n",
            "\n",
            "Iteration No: 21 ended. Search finished for the next optimal point.\n",
            "Time taken: 0.2847\n",
            "Function value obtained: -0.8384\n",
            "Current minimum: -0.8384\n",
            "Iteration No: 22 started. Searching for the next optimal point.\n",
            "[15, 16, 4, 1, 'entropy']\n",
            "\n",
            "roc_auc_score : 0.92483\n",
            "average_precision_score : 0.669159\n",
            "\n",
            "Iteration No: 22 ended. Search finished for the next optimal point.\n",
            "Time taken: 0.3733\n",
            "Function value obtained: -0.6692\n",
            "Current minimum: -0.8384\n",
            "Iteration No: 23 started. Searching for the next optimal point.\n",
            "[12, 19, 5, 1, 'entropy']\n",
            "\n",
            "roc_auc_score : 0.937278\n",
            "average_precision_score : 0.716825\n",
            "\n",
            "Iteration No: 23 ended. Search finished for the next optimal point.\n",
            "Time taken: 0.2970\n",
            "Function value obtained: -0.7168\n",
            "Current minimum: -0.8384\n",
            "Iteration No: 24 started. Searching for the next optimal point.\n",
            "[4, 22, 4, 1, 'entropy']\n",
            "\n",
            "roc_auc_score : 0.953405\n",
            "average_precision_score : 0.721159\n",
            "\n",
            "Iteration No: 24 ended. Search finished for the next optimal point.\n",
            "Time taken: 0.2779\n",
            "Function value obtained: -0.7212\n",
            "Current minimum: -0.8384\n",
            "Iteration No: 25 started. Searching for the next optimal point.\n",
            "[6, 22, 6, 1, 'entropy']\n",
            "\n",
            "roc_auc_score : 0.938034\n",
            "average_precision_score : 0.650588\n",
            "\n",
            "Iteration No: 25 ended. Search finished for the next optimal point.\n",
            "Time taken: 0.2879\n",
            "Function value obtained: -0.6506\n",
            "Current minimum: -0.8384\n",
            "Iteration No: 26 started. Searching for the next optimal point.\n",
            "[4, 22, 2, 1, 'entropy']\n",
            "\n",
            "roc_auc_score : 0.953405\n",
            "average_precision_score : 0.721159\n",
            "\n",
            "Iteration No: 26 ended. Search finished for the next optimal point.\n",
            "Time taken: 0.2879\n",
            "Function value obtained: -0.7212\n",
            "Current minimum: -0.8384\n",
            "Iteration No: 27 started. Searching for the next optimal point.\n",
            "[3, 23, 5, 1, 'entropy']\n",
            "\n",
            "roc_auc_score : 0.581374\n",
            "average_precision_score : 0.200345\n",
            "\n",
            "Iteration No: 27 ended. Search finished for the next optimal point.\n",
            "Time taken: 0.2926\n",
            "Function value obtained: -0.2003\n",
            "Current minimum: -0.8384\n",
            "Iteration No: 28 started. Searching for the next optimal point.\n",
            "[3, 28, 2, 2, 'gini']\n",
            "\n",
            "roc_auc_score : 0.972182\n",
            "average_precision_score : 0.810067\n",
            "\n",
            "Iteration No: 28 ended. Search finished for the next optimal point.\n",
            "Time taken: 0.2877\n",
            "Function value obtained: -0.8101\n",
            "Current minimum: -0.8384\n",
            "Iteration No: 29 started. Searching for the next optimal point.\n",
            "[2, 29, 1, 1, 'gini']\n",
            "\n",
            "roc_auc_score : 0.479797\n",
            "average_precision_score : 0.167826\n",
            "\n",
            "Iteration No: 29 ended. Search finished for the next optimal point.\n",
            "Time taken: 0.2950\n",
            "Function value obtained: -0.1678\n",
            "Current minimum: -0.8384\n",
            "Iteration No: 30 started. Searching for the next optimal point.\n",
            "[3, 29, 1, 2, 'gini']\n",
            "\n",
            "roc_auc_score : 0.970584\n",
            "average_precision_score : 0.820759\n",
            "\n",
            "Iteration No: 30 ended. Search finished for the next optimal point.\n",
            "Time taken: 0.2968\n",
            "Function value obtained: -0.8208\n",
            "Current minimum: -0.8384\n",
            "Iteration No: 31 started. Searching for the next optimal point.\n",
            "[2, 29, 1, 3, 'gini']\n",
            "\n",
            "roc_auc_score : 0.943459\n",
            "average_precision_score : 0.673855\n",
            "\n",
            "Iteration No: 31 ended. Search finished for the next optimal point.\n",
            "Time taken: 0.3565\n",
            "Function value obtained: -0.6739\n",
            "Current minimum: -0.8384\n",
            "Iteration No: 32 started. Searching for the next optimal point.\n",
            "[2, 27, 1, 2, 'gini']\n",
            "\n",
            "roc_auc_score : 0.946171\n",
            "average_precision_score : 0.686127\n",
            "\n",
            "Iteration No: 32 ended. Search finished for the next optimal point.\n",
            "Time taken: 0.2977\n",
            "Function value obtained: -0.6861\n",
            "Current minimum: -0.8384\n",
            "Iteration No: 33 started. Searching for the next optimal point.\n",
            "[2, 29, 7, 2, 'entropy']\n",
            "\n",
            "roc_auc_score : 0.946171\n",
            "average_precision_score : 0.686127\n",
            "\n",
            "Iteration No: 33 ended. Search finished for the next optimal point.\n",
            "Time taken: 0.2947\n",
            "Function value obtained: -0.6861\n",
            "Current minimum: -0.8384\n",
            "Iteration No: 34 started. Searching for the next optimal point.\n",
            "[2, 30, 3, 2, 'gini']\n",
            "\n",
            "roc_auc_score : 0.946171\n",
            "average_precision_score : 0.686127\n",
            "\n",
            "Iteration No: 34 ended. Search finished for the next optimal point.\n",
            "Time taken: 0.2996\n",
            "Function value obtained: -0.6861\n",
            "Current minimum: -0.8384\n",
            "Iteration No: 35 started. Searching for the next optimal point.\n",
            "[3, 12, 3, 1, 'gini']\n",
            "\n",
            "roc_auc_score : 0.581374\n",
            "average_precision_score : 0.200345\n",
            "\n",
            "Iteration No: 35 ended. Search finished for the next optimal point.\n",
            "Time taken: 0.3087\n",
            "Function value obtained: -0.2003\n",
            "Current minimum: -0.8384\n",
            "Iteration No: 36 started. Searching for the next optimal point.\n",
            "[3, 6, 5, 2, 'gini']\n",
            "\n",
            "roc_auc_score : 0.966757\n",
            "average_precision_score : 0.777064\n",
            "\n",
            "Iteration No: 36 ended. Search finished for the next optimal point.\n",
            "Time taken: 0.3130\n",
            "Function value obtained: -0.7771\n",
            "Current minimum: -0.8384\n",
            "Iteration No: 37 started. Searching for the next optimal point.\n",
            "[8, 12, 1, 1, 'gini']\n",
            "\n",
            "roc_auc_score : 0.945688\n",
            "average_precision_score : 0.712763\n",
            "\n",
            "Iteration No: 37 ended. Search finished for the next optimal point.\n",
            "Time taken: 0.3025\n",
            "Function value obtained: -0.7128\n",
            "Current minimum: -0.8384\n",
            "Iteration No: 38 started. Searching for the next optimal point.\n",
            "[10, 13, 3, 1, 'gini']\n",
            "\n",
            "roc_auc_score : 0.94388\n",
            "average_precision_score : 0.703643\n",
            "\n",
            "Iteration No: 38 ended. Search finished for the next optimal point.\n",
            "Time taken: 0.2941\n",
            "Function value obtained: -0.7036\n",
            "Current minimum: -0.8384\n",
            "Iteration No: 39 started. Searching for the next optimal point.\n",
            "[6, 12, 1, 1, 'gini']\n",
            "\n",
            "roc_auc_score : 0.93324\n",
            "average_precision_score : 0.667198\n",
            "\n",
            "Iteration No: 39 ended. Search finished for the next optimal point.\n",
            "Time taken: 0.3028\n",
            "Function value obtained: -0.6672\n",
            "Current minimum: -0.8384\n",
            "Iteration No: 40 started. Searching for the next optimal point.\n",
            "[4, 20, 1, 1, 'entropy']\n",
            "\n",
            "roc_auc_score : 0.953405\n",
            "average_precision_score : 0.721159\n",
            "\n",
            "Iteration No: 40 ended. Search finished for the next optimal point.\n",
            "Time taken: 0.3135\n",
            "Function value obtained: -0.7212\n",
            "Current minimum: -0.8384\n",
            "Iteration No: 41 started. Searching for the next optimal point.\n",
            "[4, 21, 3, 1, 'entropy']\n",
            "\n",
            "roc_auc_score : 0.953405\n",
            "average_precision_score : 0.721159\n",
            "\n",
            "Iteration No: 41 ended. Search finished for the next optimal point.\n",
            "Time taken: 0.3686\n",
            "Function value obtained: -0.7212\n",
            "Current minimum: -0.8384\n",
            "Iteration No: 42 started. Searching for the next optimal point.\n",
            "[2, 20, 2, 1, 'entropy']\n",
            "\n",
            "roc_auc_score : 0.479797\n",
            "average_precision_score : 0.167826\n",
            "\n",
            "Iteration No: 42 ended. Search finished for the next optimal point.\n",
            "Time taken: 0.3054\n",
            "Function value obtained: -0.1678\n",
            "Current minimum: -0.8384\n",
            "Iteration No: 43 started. Searching for the next optimal point.\n",
            "[4, 19, 3, 1, 'entropy']\n",
            "\n",
            "roc_auc_score : 0.953405\n",
            "average_precision_score : 0.721159\n",
            "\n",
            "Iteration No: 43 ended. Search finished for the next optimal point.\n",
            "Time taken: 0.3084\n",
            "Function value obtained: -0.7212\n",
            "Current minimum: -0.8384\n",
            "Iteration No: 44 started. Searching for the next optimal point.\n",
            "[4, 20, 2, 1, 'entropy']\n",
            "\n",
            "roc_auc_score : 0.953405\n",
            "average_precision_score : 0.721159\n",
            "\n",
            "Iteration No: 44 ended. Search finished for the next optimal point.\n",
            "Time taken: 0.2943\n",
            "Function value obtained: -0.7212\n",
            "Current minimum: -0.8384\n",
            "Iteration No: 45 started. Searching for the next optimal point.\n",
            "[4, 21, 2, 1, 'gini']\n",
            "\n",
            "roc_auc_score : 0.955213\n",
            "average_precision_score : 0.730486\n",
            "\n",
            "Iteration No: 45 ended. Search finished for the next optimal point.\n",
            "Time taken: 0.2949\n",
            "Function value obtained: -0.7305\n",
            "Current minimum: -0.8384\n",
            "Iteration No: 46 started. Searching for the next optimal point.\n",
            "[3, 20, 1, 1, 'entropy']\n",
            "\n",
            "roc_auc_score : 0.581374\n",
            "average_precision_score : 0.200345\n",
            "\n",
            "Iteration No: 46 ended. Search finished for the next optimal point.\n",
            "Time taken: 0.3443\n",
            "Function value obtained: -0.2003\n",
            "Current minimum: -0.8384\n",
            "Iteration No: 47 started. Searching for the next optimal point.\n",
            "[4, 20, 1, 1, 'entropy']\n",
            "\n",
            "roc_auc_score : 0.953405\n",
            "average_precision_score : 0.721159\n",
            "\n"
          ]
        },
        {
          "output_type": "stream",
          "name": "stderr",
          "text": [
            "/usr/local/lib/python3.7/dist-packages/skopt/optimizer/optimizer.py:449: UserWarning: The objective has been evaluated at this point before.\n",
            "  warnings.warn(\"The objective has been evaluated \"\n"
          ]
        },
        {
          "output_type": "stream",
          "name": "stdout",
          "text": [
            "Iteration No: 47 ended. Search finished for the next optimal point.\n",
            "Time taken: 0.3096\n",
            "Function value obtained: -0.7212\n",
            "Current minimum: -0.8384\n",
            "Iteration No: 48 started. Searching for the next optimal point.\n",
            "[4, 20, 1, 1, 'entropy']\n",
            "\n",
            "roc_auc_score : 0.953405\n",
            "average_precision_score : 0.721159\n",
            "\n"
          ]
        },
        {
          "output_type": "stream",
          "name": "stderr",
          "text": [
            "/usr/local/lib/python3.7/dist-packages/skopt/optimizer/optimizer.py:449: UserWarning: The objective has been evaluated at this point before.\n",
            "  warnings.warn(\"The objective has been evaluated \"\n"
          ]
        },
        {
          "output_type": "stream",
          "name": "stdout",
          "text": [
            "Iteration No: 48 ended. Search finished for the next optimal point.\n",
            "Time taken: 0.3030\n",
            "Function value obtained: -0.7212\n",
            "Current minimum: -0.8384\n",
            "Iteration No: 49 started. Searching for the next optimal point.\n",
            "[4, 23, 2, 1, 'entropy']\n",
            "\n",
            "roc_auc_score : 0.953405\n",
            "average_precision_score : 0.721159\n",
            "\n",
            "Iteration No: 49 ended. Search finished for the next optimal point.\n",
            "Time taken: 0.3240\n",
            "Function value obtained: -0.7212\n",
            "Current minimum: -0.8384\n",
            "Iteration No: 50 started. Searching for the next optimal point.\n",
            "[3, 25, 6, 3, 'entropy']\n",
            "\n",
            "roc_auc_score : 0.930045\n",
            "average_precision_score : 0.679891\n",
            "\n",
            "Iteration No: 50 ended. Search finished for the next optimal point.\n",
            "Time taken: 0.3779\n",
            "Function value obtained: -0.6799\n",
            "Current minimum: -0.8384\n"
          ]
        }
      ]
    },
    {
      "cell_type": "code",
      "source": [
        "res.x"
      ],
      "metadata": {
        "colab": {
          "base_uri": "https://localhost:8080/"
        },
        "id": "-_AFnIL-xQdf",
        "outputId": "d37aa51e-3faf-462b-9730-8b269d3e0e7c"
      },
      "execution_count": null,
      "outputs": [
        {
          "output_type": "execute_result",
          "data": {
            "text/plain": [
              "[12, 29, 1, 2, 'gini']"
            ]
          },
          "metadata": {},
          "execution_count": 34
        }
      ]
    },
    {
      "cell_type": "code",
      "source": [
        "params = res.x\n",
        "max_depth = params[0]\n",
        "min_samples_split = params[1]\n",
        "min_samples_leaf = params[2]\n",
        "max_features = params[3]\n",
        "criterion = params[4]\n",
        "\n",
        "\n",
        "model_dtree = DecisionTreeClassifier(max_depth = max_depth,\n",
        "                              min_samples_split = min_samples_split,\n",
        "                              min_samples_leaf = min_samples_leaf,\n",
        "                              max_features = max_features,\n",
        "                              criterion = criterion,\n",
        "                              random_state = 42,\n",
        "                              class_weight = 'balanced')\n",
        "\n",
        "model_dtree.fit(Xtrain,y_train)\n",
        "\n",
        "pred_dtree = model_dtree.predict(Xval)\n",
        "\n",
        "print()\n",
        "print('roc_auc_score :', np.round(roc_auc_score(y_val, pred_dtree),6))\n",
        "print('average_precision_score :', np.round(average_precision_score(y_val, pred_dtree),6))\n",
        "print()"
      ],
      "metadata": {
        "colab": {
          "base_uri": "https://localhost:8080/"
        },
        "id": "jSk5FUccxcxB",
        "outputId": "29d9c995-4719-4218-d14a-c160392e88b0"
      },
      "execution_count": null,
      "outputs": [
        {
          "output_type": "stream",
          "name": "stdout",
          "text": [
            "\n",
            "roc_auc_score : 0.96989\n",
            "average_precision_score : 0.838405\n",
            "\n"
          ]
        }
      ]
    },
    {
      "cell_type": "code",
      "source": [
        ""
      ],
      "metadata": {
        "id": "mtEMDEKK0GZf"
      },
      "execution_count": null,
      "outputs": []
    },
    {
      "cell_type": "markdown",
      "source": [
        "##**Continuando**"
      ],
      "metadata": {
        "id": "QTCFz6gA0G7n"
      }
    },
    {
      "cell_type": "code",
      "source": [
        "sexo = {\n",
        "    'male': 1,\n",
        "    'female': 0\n",
        "}"
      ],
      "metadata": {
        "id": "elmidCcT16zu"
      },
      "execution_count": null,
      "outputs": []
    },
    {
      "cell_type": "code",
      "source": [
        "df.Sexo = df.Sexo.map(sexo)"
      ],
      "metadata": {
        "id": "Wb28xoUE2H2c"
      },
      "execution_count": null,
      "outputs": []
    },
    {
      "cell_type": "code",
      "source": [
        "df.head()"
      ],
      "metadata": {
        "colab": {
          "base_uri": "https://localhost:8080/",
          "height": 206
        },
        "id": "4XaQKuFO2aFH",
        "outputId": "98f86e3f-61a1-4e92-a4b1-c8f5f8cf5626"
      },
      "execution_count": null,
      "outputs": [
        {
          "output_type": "execute_result",
          "data": {
            "text/html": [
              "\n",
              "  <div id=\"df-2082b829-8d1f-42c3-bbb6-ff80ba75deb4\">\n",
              "    <div class=\"colab-df-container\">\n",
              "      <div>\n",
              "<style scoped>\n",
              "    .dataframe tbody tr th:only-of-type {\n",
              "        vertical-align: middle;\n",
              "    }\n",
              "\n",
              "    .dataframe tbody tr th {\n",
              "        vertical-align: top;\n",
              "    }\n",
              "\n",
              "    .dataframe thead th {\n",
              "        text-align: right;\n",
              "    }\n",
              "</style>\n",
              "<table border=\"1\" class=\"dataframe\">\n",
              "  <thead>\n",
              "    <tr style=\"text-align: right;\">\n",
              "      <th></th>\n",
              "      <th>Idade</th>\n",
              "      <th>Sexo</th>\n",
              "      <th>IMC</th>\n",
              "      <th>Filhos</th>\n",
              "      <th>Fumante</th>\n",
              "      <th>Regiao</th>\n",
              "      <th>Custos</th>\n",
              "    </tr>\n",
              "  </thead>\n",
              "  <tbody>\n",
              "    <tr>\n",
              "      <th>0</th>\n",
              "      <td>38</td>\n",
              "      <td>1</td>\n",
              "      <td>27.835</td>\n",
              "      <td>2</td>\n",
              "      <td>0</td>\n",
              "      <td>northwest</td>\n",
              "      <td>6455.86265</td>\n",
              "    </tr>\n",
              "    <tr>\n",
              "      <th>1</th>\n",
              "      <td>40</td>\n",
              "      <td>0</td>\n",
              "      <td>28.120</td>\n",
              "      <td>1</td>\n",
              "      <td>1</td>\n",
              "      <td>northeast</td>\n",
              "      <td>22331.56680</td>\n",
              "    </tr>\n",
              "    <tr>\n",
              "      <th>2</th>\n",
              "      <td>18</td>\n",
              "      <td>0</td>\n",
              "      <td>38.665</td>\n",
              "      <td>2</td>\n",
              "      <td>0</td>\n",
              "      <td>northeast</td>\n",
              "      <td>3393.35635</td>\n",
              "    </tr>\n",
              "    <tr>\n",
              "      <th>3</th>\n",
              "      <td>19</td>\n",
              "      <td>0</td>\n",
              "      <td>22.515</td>\n",
              "      <td>0</td>\n",
              "      <td>0</td>\n",
              "      <td>northwest</td>\n",
              "      <td>2117.33885</td>\n",
              "    </tr>\n",
              "    <tr>\n",
              "      <th>4</th>\n",
              "      <td>24</td>\n",
              "      <td>1</td>\n",
              "      <td>28.500</td>\n",
              "      <td>0</td>\n",
              "      <td>1</td>\n",
              "      <td>northeast</td>\n",
              "      <td>35147.52848</td>\n",
              "    </tr>\n",
              "  </tbody>\n",
              "</table>\n",
              "</div>\n",
              "      <button class=\"colab-df-convert\" onclick=\"convertToInteractive('df-2082b829-8d1f-42c3-bbb6-ff80ba75deb4')\"\n",
              "              title=\"Convert this dataframe to an interactive table.\"\n",
              "              style=\"display:none;\">\n",
              "        \n",
              "  <svg xmlns=\"http://www.w3.org/2000/svg\" height=\"24px\"viewBox=\"0 0 24 24\"\n",
              "       width=\"24px\">\n",
              "    <path d=\"M0 0h24v24H0V0z\" fill=\"none\"/>\n",
              "    <path d=\"M18.56 5.44l.94 2.06.94-2.06 2.06-.94-2.06-.94-.94-2.06-.94 2.06-2.06.94zm-11 1L8.5 8.5l.94-2.06 2.06-.94-2.06-.94L8.5 2.5l-.94 2.06-2.06.94zm10 10l.94 2.06.94-2.06 2.06-.94-2.06-.94-.94-2.06-.94 2.06-2.06.94z\"/><path d=\"M17.41 7.96l-1.37-1.37c-.4-.4-.92-.59-1.43-.59-.52 0-1.04.2-1.43.59L10.3 9.45l-7.72 7.72c-.78.78-.78 2.05 0 2.83L4 21.41c.39.39.9.59 1.41.59.51 0 1.02-.2 1.41-.59l7.78-7.78 2.81-2.81c.8-.78.8-2.07 0-2.86zM5.41 20L4 18.59l7.72-7.72 1.47 1.35L5.41 20z\"/>\n",
              "  </svg>\n",
              "      </button>\n",
              "      \n",
              "  <style>\n",
              "    .colab-df-container {\n",
              "      display:flex;\n",
              "      flex-wrap:wrap;\n",
              "      gap: 12px;\n",
              "    }\n",
              "\n",
              "    .colab-df-convert {\n",
              "      background-color: #E8F0FE;\n",
              "      border: none;\n",
              "      border-radius: 50%;\n",
              "      cursor: pointer;\n",
              "      display: none;\n",
              "      fill: #1967D2;\n",
              "      height: 32px;\n",
              "      padding: 0 0 0 0;\n",
              "      width: 32px;\n",
              "    }\n",
              "\n",
              "    .colab-df-convert:hover {\n",
              "      background-color: #E2EBFA;\n",
              "      box-shadow: 0px 1px 2px rgba(60, 64, 67, 0.3), 0px 1px 3px 1px rgba(60, 64, 67, 0.15);\n",
              "      fill: #174EA6;\n",
              "    }\n",
              "\n",
              "    [theme=dark] .colab-df-convert {\n",
              "      background-color: #3B4455;\n",
              "      fill: #D2E3FC;\n",
              "    }\n",
              "\n",
              "    [theme=dark] .colab-df-convert:hover {\n",
              "      background-color: #434B5C;\n",
              "      box-shadow: 0px 1px 3px 1px rgba(0, 0, 0, 0.15);\n",
              "      filter: drop-shadow(0px 1px 2px rgba(0, 0, 0, 0.3));\n",
              "      fill: #FFFFFF;\n",
              "    }\n",
              "  </style>\n",
              "\n",
              "      <script>\n",
              "        const buttonEl =\n",
              "          document.querySelector('#df-2082b829-8d1f-42c3-bbb6-ff80ba75deb4 button.colab-df-convert');\n",
              "        buttonEl.style.display =\n",
              "          google.colab.kernel.accessAllowed ? 'block' : 'none';\n",
              "\n",
              "        async function convertToInteractive(key) {\n",
              "          const element = document.querySelector('#df-2082b829-8d1f-42c3-bbb6-ff80ba75deb4');\n",
              "          const dataTable =\n",
              "            await google.colab.kernel.invokeFunction('convertToInteractive',\n",
              "                                                     [key], {});\n",
              "          if (!dataTable) return;\n",
              "\n",
              "          const docLinkHtml = 'Like what you see? Visit the ' +\n",
              "            '<a target=\"_blank\" href=https://colab.research.google.com/notebooks/data_table.ipynb>data table notebook</a>'\n",
              "            + ' to learn more about interactive tables.';\n",
              "          element.innerHTML = '';\n",
              "          dataTable['output_type'] = 'display_data';\n",
              "          await google.colab.output.renderOutput(dataTable, element);\n",
              "          const docLink = document.createElement('div');\n",
              "          docLink.innerHTML = docLinkHtml;\n",
              "          element.appendChild(docLink);\n",
              "        }\n",
              "      </script>\n",
              "    </div>\n",
              "  </div>\n",
              "  "
            ],
            "text/plain": [
              "   Idade  Sexo     IMC  Filhos  Fumante     Regiao       Custos\n",
              "0     38     1  27.835       2        0  northwest   6455.86265\n",
              "1     40     0  28.120       1        1  northeast  22331.56680\n",
              "2     18     0  38.665       2        0  northeast   3393.35635\n",
              "3     19     0  22.515       0        0  northwest   2117.33885\n",
              "4     24     1  28.500       0        1  northeast  35147.52848"
            ]
          },
          "metadata": {},
          "execution_count": 45
        }
      ]
    },
    {
      "cell_type": "code",
      "source": [
        "from sklearn.model_selection import StratifiedShuffleSplit\n",
        "\n",
        "X = df.drop(['Fumante','Regiao'], axis=1).values\n",
        "y = df['Fumante'].values\n",
        "\n",
        "validador = StratifiedShuffleSplit(n_splits=1, test_size=0.1, random_state=0)\n",
        "for treino_id, teste_id in validador.split(X, y):\n",
        "    X_train, X_test = X[treino_id], X[teste_id]\n",
        "    y_train, y_test = y[treino_id], y[teste_id]"
      ],
      "metadata": {
        "id": "ySA9jdIX0LZj"
      },
      "execution_count": null,
      "outputs": []
    },
    {
      "cell_type": "code",
      "source": [
        "from sklearn import tree\n",
        "\n",
        "classificador_arvore_decisao = tree.DecisionTreeClassifier()"
      ],
      "metadata": {
        "id": "nPZbX-Zh07nY"
      },
      "execution_count": null,
      "outputs": []
    },
    {
      "cell_type": "code",
      "source": [
        "from sklearn.model_selection import StratifiedShuffleSplit\n",
        "\n",
        "def validador(X, y):\n",
        "  validador = StratifiedShuffleSplit(n_splits=1, test_size=0.1, random_state=0)\n",
        "  for treino_id, teste_id in validador.split(X, y):\n",
        "    X_train, X_test = X[treino_id], X[teste_id]\n",
        "    y_train, y_test = y[treino_id], y[teste_id]\n",
        "  return X_train, X_test, y_train, y_test"
      ],
      "metadata": {
        "id": "ZSP1Ko9a1yaa"
      },
      "execution_count": null,
      "outputs": []
    },
    {
      "cell_type": "code",
      "source": [
        "import matplotlib.pyplot as plt\n",
        "\n",
        "def salvar_arvore(classificador, nome):\n",
        "  plt.figure(figsize=(200,100))\n",
        "  tree.plot_tree(classificador, filled=True, fontsize=14)\n",
        "  plt.savefig(nome)\n",
        "  plt.close()"
      ],
      "metadata": {
        "id": "DvGFtn6X4DVh"
      },
      "execution_count": null,
      "outputs": []
    },
    {
      "cell_type": "code",
      "source": [
        "from sklearn import tree\n",
        "\n",
        "def executar_classificador(classificador, X_train, X_test, y_train):\n",
        "  arvore = classificador.fit(X_train, y_train)\n",
        "  y_pred = arvore.predict(X_test)\n",
        "  return y_pred"
      ],
      "metadata": {
        "id": "AJ7NCjgM316_"
      },
      "execution_count": null,
      "outputs": []
    },
    {
      "cell_type": "code",
      "source": [
        "classificador_arvore_decisao = tree.DecisionTreeClassifier()\n",
        "y_pred_arvore_decisao = executar_classificador(classificador_arvore_decisao, X_train, X_test, y_train)"
      ],
      "metadata": {
        "id": "2O6uej3d34TW"
      },
      "execution_count": null,
      "outputs": []
    },
    {
      "cell_type": "code",
      "source": [
        "#criacao da figura da arvore de decisao\n",
        "salvar_arvore(classificador_arvore_decisao, \"arvore_decisao1.png\")"
      ],
      "metadata": {
        "id": "YP542g-U4pQa"
      },
      "execution_count": null,
      "outputs": []
    },
    {
      "cell_type": "code",
      "source": [
        "from sklearn.metrics import accuracy_score\n",
        "\n",
        "def validar_arvore(y_pred, y_test):\n",
        "  print(accuracy_score(y_pred, y_test))"
      ],
      "metadata": {
        "id": "mJ4A4Pj0-dwc"
      },
      "execution_count": null,
      "outputs": []
    },
    {
      "cell_type": "code",
      "source": [
        "from sklearn.metrics import accuracy_score\n",
        "from sklearn.metrics import confusion_matrix\n",
        "\n",
        "def validar_arvore(y_test, y_pred):\n",
        "    print(accuracy_score(y_pred, y_test))\n",
        "    print(confusion_matrix(y_pred, y_test))"
      ],
      "metadata": {
        "id": "LOsCYBMu-ecV"
      },
      "execution_count": null,
      "outputs": []
    },
    {
      "cell_type": "code",
      "source": [
        "from sklearn.metrics import accuracy_score\n",
        "from sklearn.metrics import confusion_matrix\n",
        "from sklearn.metrics import precision_score\n",
        "from sklearn.metrics import recall_score\n",
        "\n",
        "def validar_arvore(y_pred, y_test):\n",
        "  print(accuracy_score(y_pred, y_test))\n",
        "  print(precision_score(y_pred, y_test))\n",
        "  print(recall_score(y_pred, y_test))\n",
        "  print(confusion_matrix(y_pred, y_test))"
      ],
      "metadata": {
        "id": "r6F6CH4x_wxg"
      },
      "execution_count": null,
      "outputs": []
    },
    {
      "cell_type": "code",
      "source": [
        "#validacao arvore de decisao\n",
        "validar_arvore(y_pred_arvore_decisao, y_test)"
      ],
      "metadata": {
        "colab": {
          "base_uri": "https://localhost:8080/"
        },
        "id": "P4trc6rW-eTM",
        "outputId": "757ffb60-fbe5-4af6-bea2-ef1b1d107f87"
      },
      "execution_count": null,
      "outputs": [
        {
          "output_type": "stream",
          "name": "stdout",
          "text": [
            "0.9776119402985075\n",
            "0.9629629629629629\n",
            "0.9285714285714286\n",
            "[[105   1]\n",
            " [  2  26]]\n"
          ]
        }
      ]
    }
  ]
}